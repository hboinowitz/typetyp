{
 "cells": [
  {
   "cell_type": "code",
   "execution_count": 1,
   "metadata": {},
   "outputs": [],
   "source": [
    "from typetyp import typetyps\n",
    "from typing import Optional, Union, List, Dict\n",
    "\n",
    "%load_ext autoreload\n",
    "%autoreload 2"
   ]
  },
  {
   "cell_type": "markdown",
   "metadata": {},
   "source": [
    "### Simple functions"
   ]
  },
  {
   "cell_type": "code",
   "execution_count": 2,
   "metadata": {},
   "outputs": [],
   "source": [
    "def simple_example_without_params() -> float:\n",
    "    return 5"
   ]
  },
  {
   "cell_type": "code",
   "execution_count": 3,
   "metadata": {},
   "outputs": [
    {
     "name": "stdout",
     "output_type": "stream",
     "text": [
      "`simple_example_without_params` is a function returning a float.\n",
      "It does not accept any parameters.\n"
     ]
    }
   ],
   "source": [
    "print(typetyps(simple_example_without_params))"
   ]
  },
  {
   "cell_type": "code",
   "execution_count": 4,
   "metadata": {},
   "outputs": [],
   "source": [
    "def simple_example_identity(a: float) -> float:\n",
    "    return a"
   ]
  },
  {
   "cell_type": "code",
   "execution_count": 5,
   "metadata": {},
   "outputs": [
    {
     "name": "stdout",
     "output_type": "stream",
     "text": [
      "`simple_example_identity` is a function accepting 1 parameter `a` -\n",
      "`a` is a float.\n",
      "`simple_example_identity` returns a float.\n"
     ]
    }
   ],
   "source": [
    "print(typetyps(simple_example_identity))"
   ]
  },
  {
   "cell_type": "code",
   "execution_count": 6,
   "metadata": {},
   "outputs": [],
   "source": [
    "def simple_example_sum(a: float, b: int, c: bool) -> float:\n",
    "    return a + b"
   ]
  },
  {
   "cell_type": "code",
   "execution_count": 7,
   "metadata": {},
   "outputs": [
    {
     "name": "stdout",
     "output_type": "stream",
     "text": [
      "`simple_example_sum` is a function accepting 3 parameters `a`, `b` and `c` -\n",
      "`a` is a float, `b` is an integer and `c` is a boolean.\n",
      "`simple_example_sum` returns a float.\n"
     ]
    }
   ],
   "source": [
    "print(typetyps(simple_example_sum))"
   ]
  },
  {
   "cell_type": "markdown",
   "metadata": {},
   "source": [
    "### More advanced Typing"
   ]
  },
  {
   "cell_type": "code",
   "execution_count": 8,
   "metadata": {},
   "outputs": [],
   "source": [
    "def example_func_optional(a: int, flag: Optional[bool] = True) -> Union[int, None]:\n",
    "    if flag:\n",
    "        return a"
   ]
  },
  {
   "cell_type": "code",
   "execution_count": 9,
   "metadata": {},
   "outputs": [
    {
     "name": "stdout",
     "output_type": "stream",
     "text": [
      "`example_func_optional` is a function accepting 2 parameters `a` and `flag` -\n",
      "`a` is an integer and `flag` is an optional boolean.\n",
      "`example_func_optional` returns an optional integer.\n"
     ]
    }
   ],
   "source": [
    "print(typetyps(example_func_optional))"
   ]
  },
  {
   "cell_type": "code",
   "execution_count": 10,
   "metadata": {},
   "outputs": [],
   "source": [
    "def example_func_sum_array(a: List[Union[int, float]]) -> int:\n",
    "    return sum(a)"
   ]
  },
  {
   "cell_type": "code",
   "execution_count": 11,
   "metadata": {},
   "outputs": [
    {
     "name": "stdout",
     "output_type": "stream",
     "text": [
      "`example_func_sum_array` is a function accepting 1 parameter `a` -\n",
      "`a` is a list of integers or floats.\n",
      "`example_func_sum_array` returns an integer.\n"
     ]
    }
   ],
   "source": [
    "print(typetyps(example_func_sum_array))"
   ]
  },
  {
   "cell_type": "code",
   "execution_count": 12,
   "metadata": {},
   "outputs": [],
   "source": [
    "def example_func_sum_dict_keys(a: List[Dict[int, str]]) -> List[int]:\n",
    "    return [sum(dict_.keys()) for dict_ in a]"
   ]
  },
  {
   "cell_type": "code",
   "execution_count": 13,
   "metadata": {},
   "outputs": [
    {
     "name": "stdout",
     "output_type": "stream",
     "text": [
      "`example_func_sum_dict_keys` is a function accepting 1 parameter `a` -\n",
      "`a` is a list of dictionarys mapping integers to strings.\n",
      "`example_func_sum_dict_keys` returns a list of integers.\n"
     ]
    }
   ],
   "source": [
    "print(typetyps(example_func_sum_dict_keys))"
   ]
  },
  {
   "attachments": {},
   "cell_type": "markdown",
   "metadata": {},
   "source": [
    "### Complete `void` Method"
   ]
  },
  {
   "cell_type": "code",
   "execution_count": 14,
   "metadata": {},
   "outputs": [],
   "source": [
    "a = 2\n",
    "def void_method():\n",
    "    global a\n",
    "    a = 4"
   ]
  },
  {
   "cell_type": "code",
   "execution_count": 15,
   "metadata": {},
   "outputs": [
    {
     "name": "stdout",
     "output_type": "stream",
     "text": [
      "`void_method` is a function that is neither returning nor accepting any parameters.\n"
     ]
    }
   ],
   "source": [
    "print(typetyps(void_method))"
   ]
  }
 ],
 "metadata": {
  "interpreter": {
   "hash": "689a39af949bbdfdb812a5a4ca6d5c91a1a76b8d1e9da8545337cf25af84e3a1"
  },
  "kernelspec": {
   "display_name": "Python 3.8.2 ('.venv': venv)",
   "language": "python",
   "name": "python3"
  },
  "language_info": {
   "codemirror_mode": {
    "name": "ipython",
    "version": 3
   },
   "file_extension": ".py",
   "mimetype": "text/x-python",
   "name": "python",
   "nbconvert_exporter": "python",
   "pygments_lexer": "ipython3",
   "version": "3.8.2"
  },
  "orig_nbformat": 4
 },
 "nbformat": 4,
 "nbformat_minor": 2
}
